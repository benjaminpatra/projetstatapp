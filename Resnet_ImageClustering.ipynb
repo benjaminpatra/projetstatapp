{
 "cells": [
  {
   "cell_type": "code",
   "execution_count": 2,
   "metadata": {},
   "outputs": [],
   "source": [
    "import cv2\n",
    "import pandas as pd\n",
    "import numpy as np\n",
    "import matplotlib.pyplot as plt\n",
    "import tensorflow as tf\n",
    "import glob\n",
    "import os\n",
    "import sklearn.cluster"
   ]
  },
  {
   "cell_type": "code",
   "execution_count": 3,
   "metadata": {},
   "outputs": [],
   "source": [
    "path = 'C:/Users/benji/Desktop/statapp/heatmap2/'"
   ]
  },
  {
   "cell_type": "code",
   "execution_count": 4,
   "metadata": {},
   "outputs": [],
   "source": [
    "def extract_vector(path): #on créer une fonction afi d'extraire des vecteurs de \"features\" pour chaque image\n",
    "    liste = os.listdir(path) #permet de créer la liste des noms images présentes dans le dossier\n",
    "    resnet_feature_list = []\n",
    "    resnet_weights_path = None\n",
    "    #resnet_weights_path = 'imagenet'\n",
    "    my_model = tf.keras.Sequential() #on utilise un réseau de neuronnes de la bibliothèque Keras\n",
    "    my_model.add(tf.keras.applications.ResNet50(include_top=False, pooling='avg', weights=resnet_weights_path)) \n",
    "    #initialisation du réseau Resnet50 qui va servir de \"features extracteur\"\n",
    "\n",
    "    for im in liste :\n",
    "        image = path + im\n",
    "        im = cv2.imread(image) #lecture de l'image\n",
    "        im = cv2.resize(im,(224,224)) #resize de l'image pour que sa taille soit adaptée à la première couche du réseau\n",
    "        \n",
    "        img = tf.keras.applications.resnet50.preprocess_input(np.expand_dims(im.copy(), axis=0))\n",
    "      \n",
    "        resnet_feature = my_model.predict(img) #extraction des features\n",
    "        \n",
    "        resnet_feature_np = np.array(resnet_feature) \n",
    "        resnet_feature_list.append(resnet_feature_np.flatten())#création de la liste des features\n",
    "        \n",
    "\n",
    "    return np.array(resnet_feature_list)"
   ]
  },
  {
   "cell_type": "code",
   "execution_count": 4,
   "metadata": {},
   "outputs": [],
   "source": [
    "def cluster_image(path): #on effectue ensuite un kmeans sur les features obtenues pour obtenir 2 cluster\n",
    "    \n",
    "    resnet_feature_list = extract_vector(path)\n",
    "    kmeans = sklearn.cluster.KMeans(n_clusters=2, random_state=0).fit(resnet_feature_list)\n",
    "    result = kmeans.labels_.tolist()\n",
    "    liste = os.listdir(path)\n",
    "    df = pd.DataFrame(\n",
    "        {'Conducteur': liste,\n",
    "         'Resultat': result})\n",
    "    return df"
   ]
  },
  {
   "cell_type": "code",
   "execution_count": 5,
   "metadata": {},
   "outputs": [],
   "source": [
    "df = cluster_image(path)"
   ]
  },
  {
   "cell_type": "code",
   "execution_count": 11,
   "metadata": {},
   "outputs": [
    {
     "data": {
      "text/html": [
       "<div>\n",
       "<style scoped>\n",
       "    .dataframe tbody tr th:only-of-type {\n",
       "        vertical-align: middle;\n",
       "    }\n",
       "\n",
       "    .dataframe tbody tr th {\n",
       "        vertical-align: top;\n",
       "    }\n",
       "\n",
       "    .dataframe thead th {\n",
       "        text-align: right;\n",
       "    }\n",
       "</style>\n",
       "<table border=\"1\" class=\"dataframe\">\n",
       "  <thead>\n",
       "    <tr style=\"text-align: right;\">\n",
       "      <th></th>\n",
       "      <th>Conducteur</th>\n",
       "      <th>Resultat</th>\n",
       "    </tr>\n",
       "  </thead>\n",
       "  <tbody>\n",
       "    <tr>\n",
       "      <th>0</th>\n",
       "      <td>1.png</td>\n",
       "      <td>1</td>\n",
       "    </tr>\n",
       "    <tr>\n",
       "      <th>1</th>\n",
       "      <td>10.png</td>\n",
       "      <td>0</td>\n",
       "    </tr>\n",
       "    <tr>\n",
       "      <th>2</th>\n",
       "      <td>100.png</td>\n",
       "      <td>1</td>\n",
       "    </tr>\n",
       "    <tr>\n",
       "      <th>3</th>\n",
       "      <td>1000.png</td>\n",
       "      <td>1</td>\n",
       "    </tr>\n",
       "    <tr>\n",
       "      <th>4</th>\n",
       "      <td>1001.png</td>\n",
       "      <td>1</td>\n",
       "    </tr>\n",
       "  </tbody>\n",
       "</table>\n",
       "</div>"
      ],
      "text/plain": [
       "  Conducteur  Resultat\n",
       "0      1.png         1\n",
       "1     10.png         0\n",
       "2    100.png         1\n",
       "3   1000.png         1\n",
       "4   1001.png         1"
      ]
     },
     "execution_count": 11,
     "metadata": {},
     "output_type": "execute_result"
    }
   ],
   "source": [
    "df.head()"
   ]
  },
  {
   "cell_type": "code",
   "execution_count": 6,
   "metadata": {},
   "outputs": [],
   "source": [
    "df.to_csv('C:/Users/benji/Desktop/statapp/cluster_drivers3.csv' ,decimal=',')"
   ]
  },
  {
   "cell_type": "code",
   "execution_count": 6,
   "metadata": {},
   "outputs": [],
   "source": [
    "resnet_feature_list = extract_vector(path)"
   ]
  },
  {
   "cell_type": "code",
   "execution_count": 9,
   "metadata": {},
   "outputs": [
    {
     "data": {
      "image/png": "[encoded data removed]",
      "text/plain": [
       "<Figure size 432x288 with 1 Axes>"
      ]
     },
     "metadata": {
      "needs_background": "light"
     },
     "output_type": "display_data"
    }
   ],
   "source": [
    "\n",
    "data = pd.DataFrame(resnet_feature_list)\n",
    "sse = {}\n",
    "for k in range(1, 10):\n",
    "    kmeans = sklearn.cluster.KMeans(n_clusters=k, max_iter=1000).fit(data)\n",
    "    data[\"clusters\"] = kmeans.labels_\n",
    "    #print(data[\"clusters\"])\n",
    "    sse[k] = kmeans.inertia_ # Inertia: Sum of distances of samples to their closest cluster center\n",
    "plt.figure()\n",
    "plt.plot(list(sse.keys()), list(sse.values()))\n",
    "plt.xlabel(\"Number of cluster\")\n",
    "plt.ylabel(\"SSE\")\n",
    "nom_fig ='C:/Users/benji/Desktop/statapp' +  '/' + 'kmeans' + '.png'\n",
    "plt.savefig(nom_fig)"
   ]
  },
  {
   "cell_type": "code",
   "execution_count": 7,
   "metadata": {},
   "outputs": [
    {
     "data": {
      "text/plain": [
       "<Figure size 432x288 with 0 Axes>"
      ]
     },
     "metadata": {},
     "output_type": "display_data"
    }
   ],
   "source": [
    "nom_fig ='C:/Users/benji/Desktop/statapp' +  '/' + 'kmeans' + '.png'\n",
    "plt.savefig(nom_fig)"
   ]
  },
  {
   "cell_type": "code",
   "execution_count": null,
   "metadata": {},
   "outputs": [],
   "source": []
  }
 ],
 "metadata": {
  "kernelspec": {
   "display_name": "Python 3",
   "language": "python",
   "name": "python3"
  },
  "language_info": {
   "codemirror_mode": {
    "name": "ipython",
    "version": 3
   },
   "file_extension": ".py",
   "mimetype": "text/x-python",
   "name": "python",
   "nbconvert_exporter": "python",
   "pygments_lexer": "ipython3",
   "version": "3.6.6"
  },
  "toc": {
   "base_numbering": 1,
   "nav_menu": {},
   "number_sections": true,
   "sideBar": true,
   "skip_h1_title": false,
   "title_cell": "Table of Contents",
   "title_sidebar": "Contents",
   "toc_cell": false,
   "toc_position": {},
   "toc_section_display": true,
   "toc_window_display": false
  }
 },
 "nbformat": 4,
 "nbformat_minor": 4
}
