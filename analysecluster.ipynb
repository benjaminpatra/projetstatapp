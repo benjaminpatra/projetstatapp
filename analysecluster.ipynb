{
 "cells": [
  {
   "cell_type": "code",
   "execution_count": null,
   "metadata": {},
   "outputs": [],
   "source": [
    "import pandas as pd\n",
    "import numpy as np\n",
    "import matplotlib.pyplot as plt \n",
    "import seaborn as sns"
   ]
  },
  {
   "cell_type": "code",
   "execution_count": null,
   "metadata": {},
   "outputs": [],
   "source": [
    "df_cluster = pd.read_csv('C:/Users/benji/Desktop/statapp/cluster_drivers3.csv')\n",
    "df_features = pd.read_csv('C:/Users/benji/Desktop/statapp/data_drivers.csv')"
   ]
  },
  {
   "cell_type": "code",
   "execution_count": null,
   "metadata": {},
   "outputs": [],
   "source": [
    "df_features.drop(['Unnamed: 0','t','d','autocorr','tps2040'],axis=1,inplace = True)\n",
    "df_cluster.drop(['Unnamed: 0'],axis=1,inplace = True)"
   ]
  },
  {
   "cell_type": "code",
   "execution_count": null,
   "metadata": {},
   "outputs": [],
   "source": [
    "df_features['tps_tot'] = df_features['tps_020'] + df_features['tps_2040'] + df_features['tps_4060'] + df_features['tps_6080'] + df_features['tps_80plus'] "
   ]
  },
  {
   "cell_type": "code",
   "execution_count": null,
   "metadata": {},
   "outputs": [],
   "source": [
    "def retablir_id_conducteur(df_cluster):\n",
    "    id_conducteur = []\n",
    "    for i in range (len(df_cluster)):\n",
    "        texte = df_cluster['Conducteur'][i]\n",
    "        num = texte[:texte.find('.')]\n",
    "        id_conducteur.append(int(num))\n",
    "\n",
    "    df_cluster['id_conducteur'] = id_conducteur\n",
    "    df_cluster.sort_values(by = 'id_conducteur',inplace = True)\n",
    "    df_cluster.reset_index(inplace = True)\n",
    "    df_cluster.drop(['index','Conducteur'],axis=1,inplace = True)"
   ]
  },
  {
   "cell_type": "code",
   "execution_count": null,
   "metadata": {},
   "outputs": [],
   "source": [
    "retablir_id_conducteur(df_cluster)"
   ]
  },
  {
   "cell_type": "code",
   "execution_count": null,
   "metadata": {},
   "outputs": [],
   "source": [
    "df = pd.concat([df_features,df_cluster], axis =1)"
   ]
  },
  {
   "cell_type": "code",
   "execution_count": null,
   "metadata": {},
   "outputs": [],
   "source": [
    "df_groupeA = df[df['Resultat'] == 0]\n",
    "df_groupeB = df[df['Resultat'] == 1]\n",
    "#df_groupeC = df[df['Resultat'] == 2]\n",
    "#df_groupeD = df[df['Resultat'] == 3]"
   ]
  },
  {
   "cell_type": "code",
   "execution_count": null,
   "metadata": {},
   "outputs": [],
   "source": [
    "df.columns.drop(df['Resulat'])"
   ]
  },
  {
   "cell_type": "code",
   "execution_count": null,
   "metadata": {},
   "outputs": [],
   "source": [
    "fig = plt.figure()\n",
    "\n",
    "for col in df.columns.drop('Resultat'):\n",
    "    fig.add_subplot()\n",
    "    g = sns.FacetGrid(df, hue='Resultat')\n",
    "    g.map(sns.distplot, col).add_legend()\n",
    "plt.show()"
   ]
  },
  {
   "cell_type": "code",
   "execution_count": null,
   "metadata": {},
   "outputs": [],
   "source": [
    "liste_var = ['tps_020','tps_2040','tps_4060','tps_6080','tps_80plus']\n",
    "liste_var2 = ['a0020_pos', 'a2040_pos','a4060_pos', 'a6080_pos', 'a80plus_pos', 'a0020_neg', 'a2040_neg','a4060_neg', 'a6080_neg', 'a80plus_neg']\n",
    "\n",
    "for var in liste_var:\n",
    "    bins = np.linspace(0, 1, 100)\n",
    "    x = list(df_groupeA[var])\n",
    "    y = list(df_groupeB[var])\n",
    "    #z = list(df_groupeC[var])\n",
    "    #w = list(df_groupeD[var])\n",
    "\n",
    "    plt.hist(x, bins, alpha=0.5, label='cluster1')\n",
    "    plt.hist(y, bins, alpha=0.5, label='cluster2')\n",
    "   # plt.hist(z, bins, alpha=0.5, label='cluster3')\n",
    "    #plt.hist(w, bins, alpha=0.5, label='cluster4')\n",
    "    \n",
    "    plt.legend(loc='upper right')\n",
    "    nom_fig ='C:/Users/benji/Desktop/statapp' +  '/' + var + '.png'\n",
    "    plt.savefig(nom_fig) #on enregistre la heatmap sous avec pour nom l'identifiant du conducteur\n",
    "    plt.show()"
   ]
  },
  {
   "cell_type": "code",
   "execution_count": null,
   "metadata": {},
   "outputs": [],
   "source": [
    "import seaborn as sns\n",
    "sns.set(style=\"whitegrid\")\n",
    "\n",
    "liste_var = ['tps_020','tps_2040','tps_4060','tps_6080','tps_80plus']\n",
    "liste_var2 = ['a0020_pos', 'a2040_pos','a4060_pos', 'a6080_pos', 'a80plus_pos', 'a0020_neg', 'a2040_neg','a4060_neg', 'a6080_neg']\n",
    "\n",
    "col=df.columns\n",
    "for k in liste_var: #on exclut la dernière colonne car c'est le numero de cluster\n",
    "    \n",
    "    ax = sns.boxplot(x=\"Resultat\", y=k, \n",
    "                 data=df, palette=['darkorange','mediumblue','deeppink','skyblue','purple'])\n",
    "\n",
    "    plt.show()"
   ]
  }
 ],
 "metadata": {
  "kernelspec": {
   "display_name": "Python 3",
   "language": "python",
   "name": "python3"
  },
  "language_info": {
   "codemirror_mode": {
    "name": "ipython",
    "version": 3
   },
   "file_extension": ".py",
   "mimetype": "text/x-python",
   "name": "python",
   "nbconvert_exporter": "python",
   "pygments_lexer": "ipython3",
   "version": "3.6.6"
  },
  "toc": {
   "base_numbering": 1,
   "nav_menu": {},
   "number_sections": true,
   "sideBar": true,
   "skip_h1_title": false,
   "title_cell": "Table of Contents",
   "title_sidebar": "Contents",
   "toc_cell": false,
   "toc_position": {},
   "toc_section_display": true,
   "toc_window_display": false
  }
 },
 "nbformat": 4,
 "nbformat_minor": 4
}
